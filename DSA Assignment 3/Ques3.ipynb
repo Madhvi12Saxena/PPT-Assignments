{
 "cells": [
  {
   "cell_type": "code",
   "execution_count": 1,
   "metadata": {},
   "outputs": [
    {
     "name": "stdout",
     "output_type": "stream",
     "text": [
      "[1, 3, 2]\n"
     ]
    }
   ],
   "source": [
    "def nextPermutation(nums):\n",
    "    # Find the first pair of consecutive elements where nums[i] < nums[i+1]\n",
    "    firstIndex = -1\n",
    "    n = len(nums)\n",
    "    for i in range(n - 2, -1, -1):\n",
    "        if nums[i] < nums[i + 1]:\n",
    "            firstIndex = i\n",
    "            break\n",
    "\n",
    "    if firstIndex == -1:\n",
    "        # If no such pair is found, reverse the entire array\n",
    "        nums.reverse()\n",
    "        return nums\n",
    "\n",
    "    # Find the first element greater than nums[firstIndex]\n",
    "    secondIndex = -1\n",
    "    for i in range(n - 1, firstIndex, -1):\n",
    "        if nums[i] > nums[firstIndex]:\n",
    "            secondIndex = i\n",
    "            break\n",
    "\n",
    "    # Swap nums[firstIndex] with nums[secondIndex]\n",
    "    nums[firstIndex], nums[secondIndex] = nums[secondIndex], nums[firstIndex]\n",
    "\n",
    "    # Reverse the subarray starting from nums[firstIndex+1]\n",
    "    left = firstIndex + 1\n",
    "    right = n - 1\n",
    "    while left < right:\n",
    "        nums[left], nums[right] = nums[right], nums[left]\n",
    "        left += 1\n",
    "        right -= 1\n",
    "\n",
    "    return nums\n",
    "nums = [1, 2, 3]\n",
    "result = nextPermutation(nums)\n",
    "print(result)  # Output: [1, 3, 2]"
   ]
  }
 ],
 "metadata": {
  "kernelspec": {
   "display_name": "Python 3",
   "language": "python",
   "name": "python3"
  },
  "language_info": {
   "codemirror_mode": {
    "name": "ipython",
    "version": 3
   },
   "file_extension": ".py",
   "mimetype": "text/x-python",
   "name": "python",
   "nbconvert_exporter": "python",
   "pygments_lexer": "ipython3",
   "version": "3.11.4"
  },
  "orig_nbformat": 4
 },
 "nbformat": 4,
 "nbformat_minor": 2
}
