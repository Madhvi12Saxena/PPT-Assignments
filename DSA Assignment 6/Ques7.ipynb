{
 "cells": [
  {
   "cell_type": "code",
   "execution_count": 1,
   "metadata": {},
   "outputs": [
    {
     "name": "stdout",
     "output_type": "stream",
     "text": [
      "[[1, 2, 3], [8, 9, 4], [7, 6, 5]]\n"
     ]
    }
   ],
   "source": [
    "'''Given a positive integer n, generate an n x n matrix filled with elements from 1 to n2 in spiral order.\n",
    "Input: n = 3\n",
    "Output: [[1,2,3],[8,9,4],[7,6,5]]'''\n",
    "\n",
    "def generateMatrix(n):\n",
    "    matrix = [[0] * n for _ in range(n)]\n",
    "    start_row = 0\n",
    "    end_row = n - 1\n",
    "    start_col = 0\n",
    "    end_col = n - 1\n",
    "    num = 1\n",
    "\n",
    "    while num <= n * n:\n",
    "        # Fill top row\n",
    "        for i in range(start_col, end_col + 1):\n",
    "            matrix[start_row][i] = num\n",
    "            num += 1\n",
    "        start_row += 1\n",
    "\n",
    "        # Fill right column\n",
    "        for i in range(start_row, end_row + 1):\n",
    "            matrix[i][end_col] = num\n",
    "            num += 1\n",
    "        end_col -= 1\n",
    "\n",
    "        # Fill bottom row\n",
    "        for i in range(end_col, start_col - 1, -1):\n",
    "            matrix[end_row][i] = num\n",
    "            num += 1\n",
    "        end_row -= 1\n",
    "\n",
    "        # Fill left column\n",
    "        for i in range(end_row, start_row - 1, -1):\n",
    "            matrix[i][start_col] = num\n",
    "            num += 1\n",
    "        start_col += 1\n",
    "\n",
    "    return matrix\n",
    "n = 3\n",
    "matrix = generateMatrix(n)\n",
    "print(matrix)"
   ]
  }
 ],
 "metadata": {
  "kernelspec": {
   "display_name": "Python 3",
   "language": "python",
   "name": "python3"
  },
  "language_info": {
   "codemirror_mode": {
    "name": "ipython",
    "version": 3
   },
   "file_extension": ".py",
   "mimetype": "text/x-python",
   "name": "python",
   "nbconvert_exporter": "python",
   "pygments_lexer": "ipython3",
   "version": "3.11.4"
  },
  "orig_nbformat": 4
 },
 "nbformat": 4,
 "nbformat_minor": 2
}
