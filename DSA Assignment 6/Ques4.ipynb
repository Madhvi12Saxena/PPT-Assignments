{
 "cells": [
  {
   "cell_type": "code",
   "execution_count": 1,
   "metadata": {},
   "outputs": [
    {
     "name": "stdout",
     "output_type": "stream",
     "text": [
      "2\n"
     ]
    }
   ],
   "source": [
    "'''Given a binary array nums, return *the maximum length of a contiguous subarray with an equal number of* 0 *and* 1.\n",
    "Input: nums = [0,1]\n",
    "Output: 2\n",
    "Explanation:[0, 1] is the longest contiguous subarray with an equal number of 0 and 1.'''\n",
    "\n",
    "def findMaxLength(nums):\n",
    "    sums = {0: -1}\n",
    "    max_length = 0\n",
    "    current_sum = 0\n",
    "\n",
    "    for i in range(len(nums)):\n",
    "        if nums[i] == 0:\n",
    "            current_sum -= 1\n",
    "        else:\n",
    "            current_sum += 1\n",
    "\n",
    "        if current_sum in sums:\n",
    "            subarray_length = i - sums[current_sum]\n",
    "            max_length = max(max_length, subarray_length)\n",
    "        else:\n",
    "            sums[current_sum] = i\n",
    "\n",
    "    return max_length\n",
    "nums = [0, 1]\n",
    "max_length = findMaxLength(nums)\n",
    "print(max_length)"
   ]
  }
 ],
 "metadata": {
  "kernelspec": {
   "display_name": "Python 3",
   "language": "python",
   "name": "python3"
  },
  "language_info": {
   "codemirror_mode": {
    "name": "ipython",
    "version": 3
   },
   "file_extension": ".py",
   "mimetype": "text/x-python",
   "name": "python",
   "nbconvert_exporter": "python",
   "pygments_lexer": "ipython3",
   "version": "3.11.4"
  },
  "orig_nbformat": 4
 },
 "nbformat": 4,
 "nbformat_minor": 2
}
