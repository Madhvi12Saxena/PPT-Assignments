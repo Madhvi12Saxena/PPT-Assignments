{
 "cells": [
  {
   "cell_type": "code",
   "execution_count": 1,
   "metadata": {},
   "outputs": [
    {
     "name": "stdout",
     "output_type": "stream",
     "text": [
      "False\n"
     ]
    }
   ],
   "source": [
    "'''Given an array of integers arr, return *true if and only if it is a valid mountain array*.\n",
    "Recall that arr is a mountain array if and only if:\n",
    "- arr.length >= 3\n",
    "- There exists some i with 0 < i < arr.length - 1 such that:\n",
    "    - arr[0] < arr[1] < ... < arr[i - 1] < arr[i]\n",
    "    - arr[i] > arr[i + 1] > ... > arr[arr.length - 1]\n",
    "Input: arr = [2,1]\n",
    "Output:false'''\n",
    "\n",
    "def validMountainArray(arr):\n",
    "    n = len(arr)\n",
    "    if n < 3:\n",
    "        return False\n",
    "    \n",
    "    left = 0\n",
    "    right = n - 1\n",
    "    \n",
    "    while left + 1 < n and arr[left] < arr[left + 1]:\n",
    "        left += 1\n",
    "    \n",
    "    while right - 1 >= 0 and arr[right] < arr[right - 1]:\n",
    "        right -= 1\n",
    "    \n",
    "    return left == right and left != 0 and right != n - 1\n",
    "arr = [2, 1]\n",
    "valid = validMountainArray(arr)\n",
    "print(valid)"
   ]
  }
 ],
 "metadata": {
  "kernelspec": {
   "display_name": "Python 3",
   "language": "python",
   "name": "python3"
  },
  "language_info": {
   "codemirror_mode": {
    "name": "ipython",
    "version": 3
   },
   "file_extension": ".py",
   "mimetype": "text/x-python",
   "name": "python",
   "nbconvert_exporter": "python",
   "pygments_lexer": "ipython3",
   "version": "3.11.4"
  },
  "orig_nbformat": 4
 },
 "nbformat": 4,
 "nbformat_minor": 2
}
