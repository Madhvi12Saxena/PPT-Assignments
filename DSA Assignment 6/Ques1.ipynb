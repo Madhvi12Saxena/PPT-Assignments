{
 "cells": [
  {
   "cell_type": "code",
   "execution_count": 1,
   "metadata": {},
   "outputs": [
    {
     "name": "stdout",
     "output_type": "stream",
     "text": [
      "[0, 4, 1, 3, 2]\n"
     ]
    }
   ],
   "source": [
    "'''A permutation perm of n + 1 integers of all the integers in the range [0, n] can be represented as a string s of length n where:\n",
    "- s[i] == 'I' if perm[i] < perm[i + 1], and\n",
    "- s[i] == 'D' if perm[i] > perm[i + 1].\n",
    "Given a string s, reconstruct the permutation perm and return it. If there are multiple valid permutations perm, return **any of them**.\n",
    "Input: s = \"IDID\"\n",
    "Output:[0,4,1,3,2]'''\n",
    "\n",
    "def reconstructPermutation(s):\n",
    "    n = len(s)\n",
    "    perm = []\n",
    "    low, high = 0, n\n",
    "    \n",
    "    for c in s:\n",
    "        if c == 'I':\n",
    "            perm.append(low)\n",
    "            low += 1\n",
    "        elif c == 'D':\n",
    "            perm.append(high)\n",
    "            high -= 1\n",
    "    \n",
    "    # Append the remaining value\n",
    "    perm.append(low)\n",
    "    \n",
    "    return perm\n",
    "s = \"IDID\"\n",
    "reconstructed_permutation = reconstructPermutation(s)\n",
    "print(reconstructed_permutation)"
   ]
  }
 ],
 "metadata": {
  "kernelspec": {
   "display_name": "Python 3",
   "language": "python",
   "name": "python3"
  },
  "language_info": {
   "codemirror_mode": {
    "name": "ipython",
    "version": 3
   },
   "file_extension": ".py",
   "mimetype": "text/x-python",
   "name": "python",
   "nbconvert_exporter": "python",
   "pygments_lexer": "ipython3",
   "version": "3.11.4"
  },
  "orig_nbformat": 4
 },
 "nbformat": 4,
 "nbformat_minor": 2
}
