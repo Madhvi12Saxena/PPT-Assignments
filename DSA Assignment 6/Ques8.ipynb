{
 "cells": [
  {
   "cell_type": "code",
   "execution_count": 1,
   "metadata": {},
   "outputs": [
    {
     "name": "stdout",
     "output_type": "stream",
     "text": [
      "[[7, 0, 0], [-7, 0, 3]]\n"
     ]
    }
   ],
   "source": [
    "'''Given two sparse matrices mat1 of size m x k and mat2 of size k x n, return the result of mat1 x mat2. You may assume that multiplication is always possible.\n",
    "Input: mat1 = [[1,0,0],[-1,0,3]], mat2 = [[7,0,0],[0,0,0],[0,0,1]]\n",
    "Output:[[7,0,0],[-7,0,3]]'''\n",
    "\n",
    "def multiply_sparse_matrices(mat1, mat2):\n",
    "    m, k = len(mat1), len(mat1[0])\n",
    "    k2, n = len(mat2), len(mat2[0])\n",
    "\n",
    "    # Create the resulting matrix with initial zeros\n",
    "    result = [[0] * n for _ in range(m)]\n",
    "\n",
    "    # Create dictionaries to store the non-zero values of mat1 and mat2\n",
    "    mat1_dict = {}\n",
    "    mat2_dict = {}\n",
    "\n",
    "    # Populate mat1_dict with non-zero values from mat1\n",
    "    for i in range(m):\n",
    "        for j in range(k):\n",
    "            if mat1[i][j] != 0:\n",
    "                mat1_dict[(i, j)] = mat1[i][j]\n",
    "\n",
    "    # Populate mat2_dict with non-zero values from mat2\n",
    "    for i in range(k2):\n",
    "        for j in range(n):\n",
    "            if mat2[i][j] != 0:\n",
    "                mat2_dict[(i, j)] = mat2[i][j]\n",
    "\n",
    "    # Perform the multiplication on non-zero entries only\n",
    "    for (i, j1), val1 in mat1_dict.items():\n",
    "        for (j2, k), val2 in mat2_dict.items():\n",
    "            if j1 == j2:\n",
    "                result[i][k] += val1 * val2\n",
    "\n",
    "    return result\n",
    "mat1 = [[1, 0, 0], [-1, 0, 3]]\n",
    "mat2 = [[7, 0, 0], [0, 0, 0], [0, 0, 1]]\n",
    "\n",
    "result = multiply_sparse_matrices(mat1, mat2)\n",
    "print(result)"
   ]
  }
 ],
 "metadata": {
  "kernelspec": {
   "display_name": "Python 3",
   "language": "python",
   "name": "python3"
  },
  "language_info": {
   "codemirror_mode": {
    "name": "ipython",
    "version": 3
   },
   "file_extension": ".py",
   "mimetype": "text/x-python",
   "name": "python",
   "nbconvert_exporter": "python",
   "pygments_lexer": "ipython3",
   "version": "3.11.4"
  },
  "orig_nbformat": 4
 },
 "nbformat": 4,
 "nbformat_minor": 2
}
