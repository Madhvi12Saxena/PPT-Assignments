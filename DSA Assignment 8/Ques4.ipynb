{
 "cells": [
  {
   "cell_type": "code",
   "execution_count": 1,
   "metadata": {},
   "outputs": [
    {
     "ename": "TypeError",
     "evalue": "TreeNode() takes no arguments",
     "output_type": "error",
     "traceback": [
      "\u001b[1;31m---------------------------------------------------------------------------\u001b[0m",
      "\u001b[1;31mTypeError\u001b[0m                                 Traceback (most recent call last)",
      "Cell \u001b[1;32mIn[1], line 53\u001b[0m\n\u001b[0;32m     51\u001b[0m     \u001b[39mreturn\u001b[39;00m inorder_traversal(root\u001b[39m.\u001b[39mleft) \u001b[39m+\u001b[39m [root\u001b[39m.\u001b[39mval] \u001b[39m+\u001b[39m inorder_traversal(root\u001b[39m.\u001b[39mright)\n\u001b[0;32m     52\u001b[0m s \u001b[39m=\u001b[39m \u001b[39m\"\u001b[39m\u001b[39m4(2(3)(1))(6(5))\u001b[39m\u001b[39m\"\u001b[39m\n\u001b[1;32m---> 53\u001b[0m root \u001b[39m=\u001b[39m str2tree(s)\n\u001b[0;32m     54\u001b[0m result \u001b[39m=\u001b[39m inorder_traversal(root)\n\u001b[0;32m     55\u001b[0m \u001b[39mprint\u001b[39m(result)\n",
      "Cell \u001b[1;32mIn[1], line 25\u001b[0m, in \u001b[0;36mstr2tree\u001b[1;34m(s)\u001b[0m\n\u001b[0;32m     22\u001b[0m     \u001b[39mreturn\u001b[39;00m TreeNode(\u001b[39mint\u001b[39m(s))\n\u001b[0;32m     24\u001b[0m \u001b[39m# Create the root node with the value before the first parenthesis\u001b[39;00m\n\u001b[1;32m---> 25\u001b[0m root \u001b[39m=\u001b[39m TreeNode(\u001b[39mint\u001b[39;49m(s[:i]))\n\u001b[0;32m     27\u001b[0m \u001b[39m# Find the substring inside the first pair of parentheses\u001b[39;00m\n\u001b[0;32m     28\u001b[0m j \u001b[39m=\u001b[39m find_matching_parenthesis(s[i:])\n",
      "\u001b[1;31mTypeError\u001b[0m: TreeNode() takes no arguments"
     ]
    }
   ],
   "source": [
    "'''You need to construct a binary tree from a string consisting of parenthesis and integers.\n",
    "The whole input represents a binary tree. It contains an integer followed by zero, one or two pairs of parenthesis. The integer represents the root's value and a pair of parenthesis contains a child binary tree with the same structure.\n",
    "You always start to construct the *left* child node of the parent first if it exists.\n",
    "Input: s = \"4(2(3)(1))(6(5))\"\n",
    "Output: [4,2,6,3,1,5]'''\n",
    "\n",
    "class TreeNode:\n",
    "    def _init_(self, val=0, left=None, right=None):\n",
    "        self.val = val\n",
    "        self.left = left\n",
    "        self.right = right\n",
    "\n",
    "def str2tree(s):\n",
    "    if not s:\n",
    "        return None\n",
    "\n",
    "    # Find the index of the first opening parenthesis\n",
    "    i = s.find('(')\n",
    "\n",
    "    # If no opening parenthesis is found, the entire string is a single node\n",
    "    if i == -1:\n",
    "        return TreeNode(int(s))\n",
    "\n",
    "    # Create the root node with the value before the first parenthesis\n",
    "    root = TreeNode(int(s[:i]))\n",
    "\n",
    "    # Find the substring inside the first pair of parentheses\n",
    "    j = find_matching_parenthesis(s[i:])\n",
    "    root.left = str2tree(s[i+1:i+j])\n",
    "\n",
    "    # Find the substring inside the second pair of parentheses (if exists)\n",
    "    if i+j+1 < len(s)-1:\n",
    "        root.right = str2tree(s[i+j+2:-1])\n",
    "\n",
    "    return root\n",
    "\n",
    "def find_matching_parenthesis(s):\n",
    "    count = 0\n",
    "    for i, c in enumerate(s):\n",
    "        if c == '(':\n",
    "            count += 1\n",
    "        elif c == ')':\n",
    "            count -= 1\n",
    "            if count == 0:\n",
    "                return i\n",
    "    return -1\n",
    "\n",
    "def inorder_traversal(root):\n",
    "    if root is None:\n",
    "        return []\n",
    "    return inorder_traversal(root.left) + [root.val] + inorder_traversal(root.right)\n",
    "s = \"4(2(3)(1))(6(5))\"\n",
    "root = str2tree(s)\n",
    "result = inorder_traversal(root)\n",
    "print(result)"
   ]
  }
 ],
 "metadata": {
  "kernelspec": {
   "display_name": "Python 3",
   "language": "python",
   "name": "python3"
  },
  "language_info": {
   "codemirror_mode": {
    "name": "ipython",
    "version": 3
   },
   "file_extension": ".py",
   "mimetype": "text/x-python",
   "name": "python",
   "nbconvert_exporter": "python",
   "pygments_lexer": "ipython3",
   "version": "3.11.4"
  },
  "orig_nbformat": 4
 },
 "nbformat": 4,
 "nbformat_minor": 2
}
