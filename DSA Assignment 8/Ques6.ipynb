{
 "cells": [
  {
   "cell_type": "code",
   "execution_count": 1,
   "metadata": {},
   "outputs": [
    {
     "name": "stdout",
     "output_type": "stream",
     "text": [
      "[0, 6]\n"
     ]
    }
   ],
   "source": [
    "'''Given two strings s and p, return *an array of all the start indices of* p*'s anagrams in* s. You may return the answer in **any order**.\n",
    "An **Anagram** is a word or phrase formed by rearranging the letters of a different word or phrase, typically using all the original letters exactly once.\n",
    "Input: s = \"cbaebabacd\", p = \"abc\"\n",
    "Output: [0,6]\n",
    "Explanation:The substring with start index = 0 is \"cba\", which is an anagram of \"abc\".\n",
    "The substring with start index = 6 is \"bac\", which is an anagram of \"abc\".'''\n",
    "\n",
    "from collections import Counter\n",
    "\n",
    "def findAnagrams(s, p):\n",
    "    target_freq = Counter(p)\n",
    "    window_freq = Counter()\n",
    "    left = 0\n",
    "    matched = 0\n",
    "    result = []\n",
    "\n",
    "    for right in range(len(s)):\n",
    "        # Add the current character to the window\n",
    "        window_freq[s[right]] += 1\n",
    "\n",
    "        # Increment the count of matched characters\n",
    "        if window_freq[s[right]] <= target_freq[s[right]]:\n",
    "            matched += 1\n",
    "\n",
    "        # Check if the current window is of size equal to the length of p\n",
    "        if right - left + 1 == len(p):\n",
    "            # Check if the current window is an anagram of p\n",
    "            if matched == len(p):\n",
    "                result.append(left)\n",
    "\n",
    "            # Remove the character at the left pointer from the window\n",
    "            window_freq[s[left]] -= 1\n",
    "            if window_freq[s[left]] < target_freq[s[left]]:\n",
    "                matched -= 1\n",
    "\n",
    "            # Move the left pointer to the right\n",
    "            left += 1\n",
    "\n",
    "    return result\n",
    "s = \"cbaebabacd\"\n",
    "p = \"abc\"\n",
    "result = findAnagrams(s, p)\n",
    "print(result)"
   ]
  }
 ],
 "metadata": {
  "kernelspec": {
   "display_name": "Python 3",
   "language": "python",
   "name": "python3"
  },
  "language_info": {
   "codemirror_mode": {
    "name": "ipython",
    "version": 3
   },
   "file_extension": ".py",
   "mimetype": "text/x-python",
   "name": "python",
   "nbconvert_exporter": "python",
   "pygments_lexer": "ipython3",
   "version": "3.11.4"
  },
  "orig_nbformat": 4
 },
 "nbformat": 4,
 "nbformat_minor": 2
}
