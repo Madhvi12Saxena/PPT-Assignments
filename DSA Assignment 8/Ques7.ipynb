{
 "cells": [
  {
   "cell_type": "code",
   "execution_count": 1,
   "metadata": {},
   "outputs": [
    {
     "ename": "IndexError",
     "evalue": "list index out of range",
     "output_type": "error",
     "traceback": [
      "\u001b[1;31m---------------------------------------------------------------------------\u001b[0m",
      "\u001b[1;31mIndexError\u001b[0m                                Traceback (most recent call last)",
      "Cell \u001b[1;32mIn[1], line 28\u001b[0m\n\u001b[0;32m     25\u001b[0m     \u001b[39mreturn\u001b[39;00m stack[\u001b[39m0\u001b[39m]\n\u001b[0;32m     27\u001b[0m s \u001b[39m=\u001b[39m \u001b[39m\"\u001b[39m\u001b[39m3[a]2[bc]\u001b[39m\u001b[39m\"\u001b[39m\n\u001b[1;32m---> 28\u001b[0m result \u001b[39m=\u001b[39m decodeString(s)\n\u001b[0;32m     29\u001b[0m \u001b[39mprint\u001b[39m(result)\n",
      "Cell \u001b[1;32mIn[1], line 21\u001b[0m, in \u001b[0;36mdecodeString\u001b[1;34m(s)\u001b[0m\n\u001b[0;32m     19\u001b[0m     decoded_string \u001b[39m=\u001b[39m stack\u001b[39m.\u001b[39mpop()\n\u001b[0;32m     20\u001b[0m     decoded_string \u001b[39m*\u001b[39m\u001b[39m=\u001b[39m repetition_count\n\u001b[1;32m---> 21\u001b[0m     stack[\u001b[39m-\u001b[39;49m\u001b[39m1\u001b[39;49m] \u001b[39m+\u001b[39m\u001b[39m=\u001b[39m decoded_string\n\u001b[0;32m     22\u001b[0m \u001b[39melse\u001b[39;00m:\n\u001b[0;32m     23\u001b[0m     stack[\u001b[39m-\u001b[39m\u001b[39m1\u001b[39m] \u001b[39m+\u001b[39m\u001b[39m=\u001b[39m c\n",
      "\u001b[1;31mIndexError\u001b[0m: list index out of range"
     ]
    }
   ],
   "source": [
    "'''Given an encoded string, return its decoded string.\n",
    "The encoding rule is: k[encoded_string], where the encoded_string inside the square brackets is being repeated exactly k times. Note that k is guaranteed to be a positive integer.\n",
    "You may assume that the input string is always valid; there are no extra white spaces, square brackets are well-formed, etc. Furthermore, you may assume that the original data does not contain any digits and that digits are only for those repeat numbers, k. For example, there will not be input like 3a or 2[4].\n",
    "The test cases are generated so that the length of the output will never exceed 105.\n",
    "Input: s = \"3[a]2[bc]\"\n",
    "Output: \"aaabcbc\"'''\n",
    "\n",
    "def decodeString(s):  \n",
    "    stack = []\n",
    "    result = \"\"\n",
    "\n",
    "    for c in s:\n",
    "        if c.isdigit():\n",
    "            stack.append(int(c))\n",
    "        elif c == \"[\":\n",
    "            stack.append(\"\")\n",
    "        elif c == \"]\":\n",
    "            repetition_count = stack.pop()\n",
    "            decoded_string = stack.pop()\n",
    "            decoded_string *= repetition_count\n",
    "            stack[-1] += decoded_string\n",
    "        else:\n",
    "            stack[-1] += c\n",
    "\n",
    "    return stack[0]\n",
    "\n",
    "s = \"3[a]2[bc]\"\n",
    "result = decodeString(s)\n",
    "print(result)"
   ]
  }
 ],
 "metadata": {
  "kernelspec": {
   "display_name": "Python 3",
   "language": "python",
   "name": "python3"
  },
  "language_info": {
   "codemirror_mode": {
    "name": "ipython",
    "version": 3
   },
   "file_extension": ".py",
   "mimetype": "text/x-python",
   "name": "python",
   "nbconvert_exporter": "python",
   "pygments_lexer": "ipython3",
   "version": "3.11.4"
  },
  "orig_nbformat": 4
 },
 "nbformat": 4,
 "nbformat_minor": 2
}
