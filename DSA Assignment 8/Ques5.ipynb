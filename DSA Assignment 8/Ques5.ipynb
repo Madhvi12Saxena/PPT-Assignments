{
 "cells": [
  {
   "cell_type": "code",
   "execution_count": 1,
   "metadata": {},
   "outputs": [
    {
     "name": "stdout",
     "output_type": "stream",
     "text": [
      "Compressed Array: ['a', '2', 'b', '2', 'c', '3']\n",
      "New Length: 6\n"
     ]
    }
   ],
   "source": [
    "'''Given an array of characters chars, compress it using the following algorithm:\n",
    "Begin with an empty string s. For each group of **consecutive repeating characters** in chars:\n",
    "- If the group's length is 1, append the character to s.\n",
    "- Otherwise, append the character followed by the group's length.\n",
    "The compressed string s **should not be returned separately**, but instead, be stored **in the input character array chars**. Note that group lengths that are 10 or longer will be split into multiple characters in chars.\n",
    "After you are done **modifying the input array,** return *the new length of the array*.\n",
    "You must write an algorithm that uses only constant extra space.\n",
    "Input: chars = [\"a\",\"a\",\"b\",\"b\",\"c\",\"c\",\"c\"]\n",
    "Output: Return 6, and the first 6 characters of the input array should be: [\"a\",\"2\",\"b\",\"2\",\"c\",\"3\"]\n",
    "Explanation:The groups are \"aa\", \"bb\", and \"ccc\". This compresses to \"a2b2c3\".'''\n",
    "\n",
    "def compress(chars):\n",
    "    anchor = write = 0\n",
    "\n",
    "    for read in range(len(chars)):\n",
    "        if read + 1 == len(chars) or chars[read + 1] != chars[read]:\n",
    "            chars[write] = chars[anchor]\n",
    "            write += 1\n",
    "\n",
    "            if read > anchor:\n",
    "                length = read - anchor + 1\n",
    "                for digit in str(length):\n",
    "                    chars[write] = digit\n",
    "                    write += 1\n",
    "\n",
    "            anchor = read + 1\n",
    "\n",
    "    return write\n",
    "chars = [\"a\", \"a\", \"b\", \"b\", \"c\", \"c\", \"c\"]\n",
    "compressed_length = compress(chars)\n",
    "\n",
    "print(f\"Compressed Array: {chars[:compressed_length]}\")\n",
    "print(f\"New Length: {compressed_length}\")"
   ]
  }
 ],
 "metadata": {
  "kernelspec": {
   "display_name": "Python 3",
   "language": "python",
   "name": "python3"
  },
  "language_info": {
   "codemirror_mode": {
    "name": "ipython",
    "version": 3
   },
   "file_extension": ".py",
   "mimetype": "text/x-python",
   "name": "python",
   "nbconvert_exporter": "python",
   "pygments_lexer": "ipython3",
   "version": "3.11.4"
  },
  "orig_nbformat": 4
 },
 "nbformat": 4,
 "nbformat_minor": 2
}
