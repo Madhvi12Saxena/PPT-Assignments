{
 "cells": [
  {
   "cell_type": "code",
   "execution_count": 1,
   "metadata": {},
   "outputs": [
    {
     "name": "stdout",
     "output_type": "stream",
     "text": [
      "2\n"
     ]
    }
   ],
   "source": [
    "'''You have n coins and you want to build a staircase with these coins. The staircase consists of k rows where the ith row has exactly i coins. The last row of the staircase **may be** incomplete.\n",
    "Given the integer n, return *the number of **complete rows** of the staircase you will build*.\n",
    "Input: n = 5\n",
    "Output: 2'''\n",
    "\n",
    "def calculate_complete_rows(n):\n",
    "    k = 0\n",
    "    while (k * (k + 1)) // 2 <= n:\n",
    "        k += 1\n",
    "\n",
    "    return k - 1\n",
    "n = 5\n",
    "output = calculate_complete_rows(n)\n",
    "print(output)"
   ]
  }
 ],
 "metadata": {
  "kernelspec": {
   "display_name": "Python 3",
   "language": "python",
   "name": "python3"
  },
  "language_info": {
   "codemirror_mode": {
    "name": "ipython",
    "version": 3
   },
   "file_extension": ".py",
   "mimetype": "text/x-python",
   "name": "python",
   "nbconvert_exporter": "python",
   "pygments_lexer": "ipython3",
   "version": "3.11.4"
  },
  "orig_nbformat": 4
 },
 "nbformat": 4,
 "nbformat_minor": 2
}
