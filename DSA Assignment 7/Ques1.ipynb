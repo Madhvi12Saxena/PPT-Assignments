{
 "cells": [
  {
   "cell_type": "code",
   "execution_count": 1,
   "metadata": {},
   "outputs": [
    {
     "name": "stdout",
     "output_type": "stream",
     "text": [
      "Isomorphic: True\n"
     ]
    }
   ],
   "source": [
    "'''Given two strings s and t, determine if they are isomorphic.\n",
    "Two strings s and t are isomorphic if the characters in s can be replaced to get t.\n",
    "All occurrences of a character must be replaced with another character while preserving the order of characters. No two characters may map to the same character, but a character may map to itself.\n",
    "Input: s = \"egg\", t = \"add\"\n",
    "Output: true'''\n",
    "\n",
    "def isIsomorphic(s, t):\n",
    "    if len(s) != len(t):\n",
    "        return False\n",
    "\n",
    "    s_to_t = {}\n",
    "    t_to_s = {}\n",
    "\n",
    "    for char_s, char_t in zip(s, t):\n",
    "        if char_s in s_to_t and s_to_t[char_s] != char_t:\n",
    "            return False\n",
    "        if char_t in t_to_s and t_to_s[char_t] != char_s:\n",
    "            return False\n",
    "\n",
    "        s_to_t[char_s] = char_t\n",
    "        t_to_s[char_t] = char_s\n",
    "\n",
    "    return True\n",
    "s = \"egg\"\n",
    "t = \"add\"\n",
    "isomorphic = isIsomorphic(s, t)\n",
    "\n",
    "print(f\"Isomorphic: {isomorphic}\")"
   ]
  }
 ],
 "metadata": {
  "kernelspec": {
   "display_name": "Python 3",
   "language": "python",
   "name": "python3"
  },
  "language_info": {
   "codemirror_mode": {
    "name": "ipython",
    "version": 3
   },
   "file_extension": ".py",
   "mimetype": "text/x-python",
   "name": "python",
   "nbconvert_exporter": "python",
   "pygments_lexer": "ipython3",
   "version": "3.11.4"
  },
  "orig_nbformat": 4
 },
 "nbformat": 4,
 "nbformat_minor": 2
}
