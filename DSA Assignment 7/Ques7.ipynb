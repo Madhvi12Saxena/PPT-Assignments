{
 "cells": [
  {
   "cell_type": "code",
   "execution_count": 1,
   "metadata": {},
   "outputs": [
    {
     "name": "stdout",
     "output_type": "stream",
     "text": [
      "Are Equal: True\n"
     ]
    }
   ],
   "source": [
    "'''Given two strings s and t, return true if they are equal when both are typed into empty text editors. '#' means a backspace character.\n",
    "Note that after backspacing an empty text, the text will continue empty.\n",
    "Input: s = \"ab#c\", t = \"ad#c\"\n",
    "Output: true\n",
    "Explanation: Both s and t become \"ac\".'''\n",
    "\n",
    "def processString(s):\n",
    "    stack = []\n",
    "    for c in s:\n",
    "        if c != '#':\n",
    "            stack.append(c)\n",
    "        elif stack:\n",
    "            stack.pop()\n",
    "    return ''.join(stack)\n",
    "\n",
    "def backspaceCompare(s, t):\n",
    "    processed_s = processString(s)\n",
    "    processed_t = processString(t)\n",
    "    return processed_s == processed_t\n",
    "s = \"ab#c\"\n",
    "t = \"ad#c\"\n",
    "are_equal = backspaceCompare(s, t)\n",
    "\n",
    "print(f\"Are Equal: {are_equal}\")"
   ]
  }
 ],
 "metadata": {
  "kernelspec": {
   "display_name": "Python 3",
   "language": "python",
   "name": "python3"
  },
  "language_info": {
   "codemirror_mode": {
    "name": "ipython",
    "version": 3
   },
   "file_extension": ".py",
   "mimetype": "text/x-python",
   "name": "python",
   "nbconvert_exporter": "python",
   "pygments_lexer": "ipython3",
   "version": "3.11.4"
  },
  "orig_nbformat": 4
 },
 "nbformat": 4,
 "nbformat_minor": 2
}
