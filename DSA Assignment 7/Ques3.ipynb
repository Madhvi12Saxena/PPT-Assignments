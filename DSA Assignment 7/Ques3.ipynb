{
 "cells": [
  {
   "cell_type": "code",
   "execution_count": 1,
   "metadata": {},
   "outputs": [
    {
     "name": "stdout",
     "output_type": "stream",
     "text": [
      "Sum: 134\n"
     ]
    }
   ],
   "source": [
    "'''Given two non-negative integers, num1 and num2 represented as string, return the sum of num1 and num2 as a string.\n",
    "You must solve the problem without using any built-in library for handling large integers (such as BigInteger). You must also not convert the inputs to integers directly.\n",
    "Input:  num1 = \"11\", num2 = \"123\"\n",
    "Output: \"134\"'''\n",
    "\n",
    "def addStrings(num1, num2):\n",
    "    i, j = len(num1) - 1, len(num2) - 1\n",
    "    carry = 0\n",
    "    result = \"\"\n",
    "\n",
    "    while i >= 0 or j >= 0:\n",
    "        digit_num1 = int(num1[i]) if i >= 0 else 0\n",
    "        digit_num2 = int(num2[j]) if j >= 0 else 0\n",
    "\n",
    "        digit_sum = carry + digit_num1 + digit_num2\n",
    "        carry = digit_sum // 10\n",
    "        result = str(digit_sum % 10) + result\n",
    "\n",
    "        i -= 1\n",
    "        j -= 1\n",
    "\n",
    "    if carry > 0:\n",
    "        result = str(carry) + result\n",
    "\n",
    "    return result\n",
    "num1 = \"11\"\n",
    "num2 = \"123\"\n",
    "sum_str = addStrings(num1, num2)\n",
    "\n",
    "print(f\"Sum: {sum_str}\")"
   ]
  }
 ],
 "metadata": {
  "kernelspec": {
   "display_name": "Python 3",
   "language": "python",
   "name": "python3"
  },
  "language_info": {
   "codemirror_mode": {
    "name": "ipython",
    "version": 3
   },
   "file_extension": ".py",
   "mimetype": "text/x-python",
   "name": "python",
   "nbconvert_exporter": "python",
   "pygments_lexer": "ipython3",
   "version": "3.11.4"
  },
  "orig_nbformat": 4
 },
 "nbformat": 4,
 "nbformat_minor": 2
}
