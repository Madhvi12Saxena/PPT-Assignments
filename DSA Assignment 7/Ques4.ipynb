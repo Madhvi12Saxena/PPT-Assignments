{
 "cells": [
  {
   "cell_type": "code",
   "execution_count": 1,
   "metadata": {},
   "outputs": [
    {
     "name": "stdout",
     "output_type": "stream",
     "text": [
      "Reversed: s'teL ekat edoCteeL tsetnoc\n"
     ]
    }
   ],
   "source": [
    "'''Given a string s, reverse the order of characters in each word within a sentence while still preserving whitespace and initial word order.\n",
    "Input: s = \"Let's take LeetCode contest\"\n",
    "Output:  \"s'teL ekat edoCteeL tsetnoc\"'''\n",
    "\n",
    "def reverseWords(s):\n",
    "    words = s.split()\n",
    "    reversed_words = [word[::-1] for word in words]\n",
    "    reversed_s = \" \".join(reversed_words)\n",
    "    return reversed_s\n",
    "s = \"Let's take LeetCode contest\"\n",
    "reversed_s = reverseWords(s)\n",
    "\n",
    "print(f\"Reversed: {reversed_s}\")"
   ]
  }
 ],
 "metadata": {
  "kernelspec": {
   "display_name": "Python 3",
   "language": "python",
   "name": "python3"
  },
  "language_info": {
   "codemirror_mode": {
    "name": "ipython",
    "version": 3
   },
   "file_extension": ".py",
   "mimetype": "text/x-python",
   "name": "python",
   "nbconvert_exporter": "python",
   "pygments_lexer": "ipython3",
   "version": "3.11.4"
  },
  "orig_nbformat": 4
 },
 "nbformat": 4,
 "nbformat_minor": 2
}
